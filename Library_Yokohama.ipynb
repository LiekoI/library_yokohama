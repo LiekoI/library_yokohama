{
    "cells": [
        {
            "cell_type": "code",
            "execution_count": 1,
            "metadata": {},
            "outputs": [
                {
                    "name": "stdout",
                    "output_type": "stream",
                    "text": "Requirement already satisfied: folium in /opt/conda/envs/Python36/lib/python3.6/site-packages (0.11.0)\nRequirement already satisfied: requests in /opt/conda/envs/Python36/lib/python3.6/site-packages (from folium) (2.21.0)\nRequirement already satisfied: jinja2>=2.9 in /opt/conda/envs/Python36/lib/python3.6/site-packages (from folium) (2.10)\nRequirement already satisfied: branca>=0.3.0 in /opt/conda/envs/Python36/lib/python3.6/site-packages (from folium) (0.4.1)\nRequirement already satisfied: numpy in /opt/conda/envs/Python36/lib/python3.6/site-packages (from folium) (1.15.4)\nRequirement already satisfied: chardet<3.1.0,>=3.0.2 in /opt/conda/envs/Python36/lib/python3.6/site-packages (from requests->folium) (3.0.4)\nRequirement already satisfied: urllib3<1.25,>=1.21.1 in /opt/conda/envs/Python36/lib/python3.6/site-packages (from requests->folium) (1.24.1)\nRequirement already satisfied: certifi>=2017.4.17 in /opt/conda/envs/Python36/lib/python3.6/site-packages (from requests->folium) (2020.6.20)\nRequirement already satisfied: idna<2.9,>=2.5 in /opt/conda/envs/Python36/lib/python3.6/site-packages (from requests->folium) (2.8)\nRequirement already satisfied: MarkupSafe>=0.23 in /opt/conda/envs/Python36/lib/python3.6/site-packages (from jinja2>=2.9->folium) (1.1.0)\n"
                }
            ],
            "source": "import requests # library to handle requests\nimport pandas as pd # library for data analsysis\nimport numpy as np\n!pip install folium\nimport folium "
        },
        {
            "cell_type": "code",
            "execution_count": 2,
            "metadata": {},
            "outputs": [
                {
                    "name": "stdout",
                    "output_type": "stream",
                    "text": "Your credentails:\nCLIENT_ID: DPBYY4JUY3DU20ALPSUV4ONY2K1GOJJKJ1NIHBB32XEMOVYY\nCLIENT_SECRET:1MV443TYEP4HUO0WDUW5NQ5W10L2Y4G05NWG11WIR3NUGC5B\n"
                }
            ],
            "source": "#hiden cell\nCLIENT_ID = 'DPBYY4JUY3DU20ALPSUV4ONY2K1GOJJKJ1NIHBB32XEMOVYY' # your Foursquare ID\nCLIENT_SECRET = '1MV443TYEP4HUO0WDUW5NQ5W10L2Y4G05NWG11WIR3NUGC5B' # your Foursquare Secret\nVERSION = '20180604'\nLIMIT = 40\nprint('Your credentails:')\nprint('CLIENT_ID: ' + CLIENT_ID)\nprint('CLIENT_SECRET:' + CLIENT_SECRET)"
        },
        {
            "cell_type": "code",
            "execution_count": 3,
            "metadata": {},
            "outputs": [],
            "source": "import requests\n\nrequest_parameters = {\n    \"client_id\": CLIENT_ID,\n    \"client_secret\": CLIENT_SECRET,\n    \"v\": '20180605',\n    \"section\": \"Library\",\n    \"categoryId\":\"4bf58dd8d48988d12f941735\",\n    \"near\": \"yokohama\",\n    \"radius\": 5000,\n    \"limit\": 1000}\n\ndata = requests.get(\"https://api.foursquare.com/v2/venues/explore\", params=request_parameters)"
        },
        {
            "cell_type": "code",
            "execution_count": 4,
            "metadata": {},
            "outputs": [
                {
                    "data": {
                        "text/plain": "dict_keys(['geocode', 'headerLocation', 'headerFullLocation', 'headerLocationGranularity', 'query', 'totalResults', 'suggestedBounds', 'groups'])"
                    },
                    "execution_count": 4,
                    "metadata": {},
                    "output_type": "execute_result"
                }
            ],
            "source": "d = data.json()[\"response\"]\nd.keys()"
        },
        {
            "cell_type": "code",
            "execution_count": 5,
            "metadata": {},
            "outputs": [
                {
                    "data": {
                        "text/plain": "('city', 'Yokohama', 'Yokohama')"
                    },
                    "execution_count": 5,
                    "metadata": {},
                    "output_type": "execute_result"
                }
            ],
            "source": "d[\"headerLocationGranularity\"], d[\"headerLocation\"], d[\"headerFullLocation\"]"
        },
        {
            "cell_type": "code",
            "execution_count": 6,
            "metadata": {},
            "outputs": [
                {
                    "data": {
                        "text/plain": "({'ne': {'lat': 35.485704465587176, 'lng': 139.66877467365984},\n  'sw': {'lat': 35.420427029295155, 'lng': 139.59300943455438}},\n 29)"
                    },
                    "execution_count": 6,
                    "metadata": {},
                    "output_type": "execute_result"
                }
            ],
            "source": "d[\"suggestedBounds\"], d[\"totalResults\"]"
        },
        {
            "cell_type": "code",
            "execution_count": 7,
            "metadata": {},
            "outputs": [
                {
                    "data": {
                        "text/plain": "{'what': '',\n 'where': 'yokohama',\n 'center': {'lat': 35.44778, 'lng': 139.6425},\n 'displayString': 'Yokohama, Kanagawa, Japan',\n 'cc': 'JP',\n 'geometry': {'bounds': {'ne': {'lat': 35.67284095920208,\n    'lng': 139.74687200002816},\n   'sw': {'lat': 35.12857911264956, 'lng': 138.916107002802}}},\n 'slug': 'yokohama-shi',\n 'longId': '72057594039776290'}"
                    },
                    "execution_count": 7,
                    "metadata": {},
                    "output_type": "execute_result"
                }
            ],
            "source": "d[\"geocode\"]"
        },
        {
            "cell_type": "code",
            "execution_count": 8,
            "metadata": {},
            "outputs": [
                {
                    "data": {
                        "text/plain": "dict_keys(['type', 'name', 'items'])"
                    },
                    "execution_count": 8,
                    "metadata": {},
                    "output_type": "execute_result"
                }
            ],
            "source": "d[\"groups\"][0].keys()"
        },
        {
            "cell_type": "code",
            "execution_count": 9,
            "metadata": {},
            "outputs": [
                {
                    "data": {
                        "text/plain": "('Recommended Places', 'recommended')"
                    },
                    "execution_count": 9,
                    "metadata": {},
                    "output_type": "execute_result"
                }
            ],
            "source": "d[\"groups\"][0][\"type\"], d[\"groups\"][0][\"name\"]"
        },
        {
            "cell_type": "code",
            "execution_count": 10,
            "metadata": {},
            "outputs": [
                {
                    "name": "stdout",
                    "output_type": "stream",
                    "text": "number of items: 10\n"
                },
                {
                    "data": {
                        "text/plain": "{'reasons': {'count': 0,\n  'items': [{'summary': 'This spot is popular',\n    'type': 'general',\n    'reasonName': 'globalInteractionReason'}]},\n 'venue': {'id': '4b5a8fbff964a52068cb28e3',\n  'name': '\u6a2a\u6d5c\u5e02\u4e2d\u592e\u56f3\u66f8\u9928',\n  'location': {'address': '\u897f\u533a\u8001\u677e\u753a1',\n   'lat': 35.447413,\n   'lng': 139.626411,\n   'labeledLatLngs': [{'label': 'display',\n     'lat': 35.447413,\n     'lng': 139.626411}],\n   'postalCode': '220-0032',\n   'cc': 'JP',\n   'city': '\u6a2a\u6d5c\u5e02',\n   'state': '\u795e\u5948\u5ddd\u770c',\n   'country': '\u65e5\u672c',\n   'formattedAddress': ['\u897f\u533a\u8001\u677e\u753a1', '\u6a2a\u6d5c\u5e02, \u795e\u5948\u5ddd\u770c', '220-0032', '\u65e5\u672c']},\n  'categories': [{'id': '4bf58dd8d48988d12f941735',\n    'name': 'Library',\n    'pluralName': 'Libraries',\n    'shortName': 'Library',\n    'icon': {'prefix': 'https://ss3.4sqi.net/img/categories_v2/building/library_',\n     'suffix': '.png'},\n    'primary': True}],\n  'photos': {'count': 0, 'groups': []}},\n 'referralId': 'e-0-4b5a8fbff964a52068cb28e3-0'}"
                    },
                    "execution_count": 10,
                    "metadata": {},
                    "output_type": "execute_result"
                }
            ],
            "source": "items = d[\"groups\"][0][\"items\"]\nprint(\"number of items: %i\" % len(items))\nitems[0]"
        },
        {
            "cell_type": "code",
            "execution_count": 11,
            "metadata": {},
            "outputs": [
                {
                    "name": "stdout",
                    "output_type": "stream",
                    "text": "{'address': '\u897f\u533a\u8001\u677e\u753a1', 'lat': 35.447413, 'lng': 139.626411, 'labeledLatLngs': [{'label': 'display', 'lat': 35.447413, 'lng': 139.626411}], 'postalCode': '220-0032', 'cc': 'JP', 'city': '\u6a2a\u6d5c\u5e02', 'state': '\u795e\u5948\u5ddd\u770c', 'country': '\u65e5\u672c', 'formattedAddress': ['\u897f\u533a\u8001\u677e\u753a1', '\u6a2a\u6d5c\u5e02, \u795e\u5948\u5ddd\u770c', '220-0032', '\u65e5\u672c']}\n{'address': '\u897f\u533a\u7d05\u8449\u30b1\u4e189-2', 'crossStreet': '\u7d05\u8449\u5742', 'lat': 35.452192197584424, 'lng': 139.62621994265197, 'labeledLatLngs': [{'label': 'display', 'lat': 35.452192197584424, 'lng': 139.62621994265197}], 'postalCode': '220-8585', 'cc': 'JP', 'city': '\u6a2a\u6d5c\u5e02', 'state': '\u795e\u5948\u5ddd\u770c', 'country': '\u65e5\u672c', 'formattedAddress': ['\u897f\u533a\u7d05\u8449\u30b1\u4e189-2 (\u7d05\u8449\u5742)', '\u6a2a\u6d5c\u5e02, \u795e\u5948\u5ddd\u770c', '220-8585', '\u65e5\u672c']}\n{'address': '\u897f\u533a\u307f\u306a\u3068\u307f\u3089\u30443-4-1', 'crossStreet': '\u6a2a\u6d5c\u7f8e\u8853\u9928 3F', 'lat': 35.45661675921584, 'lng': 139.63105648756027, 'labeledLatLngs': [{'label': 'display', 'lat': 35.45661675921584, 'lng': 139.63105648756027}], 'postalCode': '220-0012', 'cc': 'JP', 'city': '\u6a2a\u6d5c\u5e02', 'state': '\u795e\u5948\u5ddd\u770c', 'country': '\u65e5\u672c', 'formattedAddress': ['\u897f\u533a\u307f\u306a\u3068\u307f\u3089\u30443-4-1 (\u6a2a\u6d5c\u7f8e\u8853\u9928 3F)', '\u6a2a\u6d5c\u5e02, \u795e\u5948\u5ddd\u770c', '220-0012', '\u65e5\u672c']}\n{'address': '\u897f\u533a\u8001\u677e\u753a1', 'lat': 35.447413, 'lng': 139.626411, 'labeledLatLngs': [{'label': 'display', 'lat': 35.447413, 'lng': 139.626411}], 'postalCode': '220-0032', 'cc': 'JP', 'city': '\u6a2a\u6d5c\u5e02', 'state': '\u795e\u5948\u5ddd\u770c', 'country': '\u65e5\u672c', 'formattedAddress': ['\u897f\u533a\u8001\u677e\u753a1', '\u6a2a\u6d5c\u5e02, \u795e\u5948\u5ddd\u770c', '220-0032', '\u65e5\u672c']}\n{'address': '\u897f\u533a\u307f\u306a\u3068\u307f\u3089\u30443-7-3', 'crossStreet': '\u3051\u3044\u3086\u3046\u75c5\u9662 4F', 'lat': 35.45937, 'lng': 139.63335, 'labeledLatLngs': [{'label': 'display', 'lat': 35.45937, 'lng': 139.63335}], 'postalCode': '220-0012', 'cc': 'JP', 'city': '\u6a2a\u6d5c\u5e02', 'state': '\u795e\u5948\u5ddd\u770c', 'country': '\u65e5\u672c', 'formattedAddress': ['\u897f\u533a\u307f\u306a\u3068\u307f\u3089\u30443-7-3 (\u3051\u3044\u3086\u3046\u75c5\u9662 4F)', '\u6a2a\u6d5c\u5e02, \u795e\u5948\u5ddd\u770c', '220-0012', '\u65e5\u672c']}\n{'address': '\u4e2d\u533a\u672c\u7267\u539f16-1', 'lat': 35.423394185490245, 'lng': 139.66533079915504, 'labeledLatLngs': [{'label': 'display', 'lat': 35.423394185490245, 'lng': 139.66533079915504}], 'postalCode': '231-0821', 'cc': 'JP', 'city': '\u6a2a\u6d5c\u5e02', 'state': '\u795e\u5948\u5ddd\u770c', 'country': '\u65e5\u672c', 'formattedAddress': ['\u4e2d\u533a\u672c\u7267\u539f16-1', '\u6a2a\u6d5c\u5e02, \u795e\u5948\u5ddd\u770c', '231-0821', '\u65e5\u672c']}\n{'address': '\u795e\u5948\u5ddd\u533a\u7acb\u753a20-1', 'lat': 35.482737309392085, 'lng': 139.63522942957542, 'labeledLatLngs': [{'label': 'display', 'lat': 35.482737309392085, 'lng': 139.63522942957542}], 'postalCode': '221-0063', 'cc': 'JP', 'city': '\u6a2a\u6d5c\u5e02', 'state': '\u795e\u5948\u5ddd\u770c', 'country': '\u65e5\u672c', 'formattedAddress': ['\u795e\u5948\u5ddd\u533a\u7acb\u753a20-1', '\u6a2a\u6d5c\u5e02, \u795e\u5948\u5ddd\u770c', '221-0063', '\u65e5\u672c']}\n{'address': '\u4fdd\u571f\u30b1\u8c37\u533a\u661f\u5ddd1-2-1', 'lat': 35.457126, 'lng': 139.596591, 'labeledLatLngs': [{'label': 'display', 'lat': 35.457126, 'lng': 139.596591}], 'postalCode': '240-0006', 'cc': 'JP', 'neighborhood': '\u4fdd\u571f\u30b1\u8c37\u533a', 'city': '\u6a2a\u6d5c\u5e02', 'state': '\u795e\u5948\u5ddd\u770c', 'country': '\u65e5\u672c', 'formattedAddress': ['\u4fdd\u571f\u30b1\u8c37\u533a\u661f\u5ddd1-2-1', '\u6a2a\u6d5c\u5e02, \u795e\u5948\u5ddd\u770c', '240-0006', '\u65e5\u672c']}\n{'address': '\u5357\u533a\u5f18\u660e\u5bfa\u753a265-1', 'lat': 35.42389747662574, 'lng': 139.59645330905914, 'labeledLatLngs': [{'label': 'display', 'lat': 35.42389747662574, 'lng': 139.59645330905914}], 'postalCode': '232-0067', 'cc': 'JP', 'city': '\u6a2a\u6d5c\u5e02', 'state': '\u795e\u5948\u5ddd\u770c', 'country': '\u65e5\u672c', 'formattedAddress': ['\u5357\u533a\u5f18\u660e\u5bfa\u753a265-1', '\u6a2a\u6d5c\u5e02, \u795e\u5948\u5ddd\u770c', '232-0067', '\u65e5\u672c']}\n{'address': '\u4e2d\u533a\u5c71\u624b\u753a258', 'lat': 35.439011632150994, 'lng': 139.65355277536509, 'labeledLatLngs': [{'label': 'display', 'lat': 35.439011632150994, 'lng': 139.65355277536509}], 'postalCode': '231-0862', 'cc': 'JP', 'city': '\u6a2a\u6d5c\u5e02', 'state': '\u795e\u5948\u5ddd\u770c', 'country': '\u65e5\u672c', 'formattedAddress': ['\u4e2d\u533a\u5c71\u624b\u753a258', '\u6a2a\u6d5c\u5e02, \u795e\u5948\u5ddd\u770c', '231-0862', '\u65e5\u672c']}\nfound 10 Library\n"
                },
                {
                    "data": {
                        "text/html": "<div>\n<style scoped>\n    .dataframe tbody tr th:only-of-type {\n        vertical-align: middle;\n    }\n\n    .dataframe tbody tr th {\n        vertical-align: top;\n    }\n\n    .dataframe thead th {\n        text-align: right;\n    }\n</style>\n<table border=\"1\" class=\"dataframe\">\n  <thead>\n    <tr style=\"text-align: right;\">\n      <th></th>\n      <th>uid</th>\n      <th>name</th>\n      <th>shortname</th>\n      <th>address</th>\n      <th>postalcode</th>\n      <th>lat</th>\n      <th>lng</th>\n    </tr>\n  </thead>\n  <tbody>\n    <tr>\n      <th>0</th>\n      <td>4b5a8fbff964a52068cb28e3</td>\n      <td>\u6a2a\u6d5c\u5e02\u4e2d\u592e\u56f3\u66f8\u9928</td>\n      <td>Library</td>\n      <td></td>\n      <td>220-0032</td>\n      <td>35.447413</td>\n      <td>139.626411</td>\n    </tr>\n    <tr>\n      <th>1</th>\n      <td>4b5ba63af964a520980d29e3</td>\n      <td>\u795e\u5948\u5ddd\u770c\u7acb\u56f3\u66f8\u9928</td>\n      <td>Library</td>\n      <td></td>\n      <td>220-8585</td>\n      <td>35.452192</td>\n      <td>139.626220</td>\n    </tr>\n    <tr>\n      <th>2</th>\n      <td>4b67aff1f964a520d45a2be3</td>\n      <td>Art Information Center (\u7f8e\u8853\u60c5\u5831\u30bb\u30f3\u30bf\u30fc)</td>\n      <td>Library</td>\n      <td></td>\n      <td>220-0012</td>\n      <td>35.456617</td>\n      <td>139.631056</td>\n    </tr>\n    <tr>\n      <th>3</th>\n      <td>553629a0498eaf2e168ba33b</td>\n      <td>City of Yokohama Municipal Archives Reference ...</td>\n      <td>Library</td>\n      <td></td>\n      <td>220-0032</td>\n      <td>35.447413</td>\n      <td>139.626411</td>\n    </tr>\n    <tr>\n      <th>4</th>\n      <td>57cfbe49cd102d0ceb99971c</td>\n      <td>\u5e0c\u671b-M\u30fbM (\u3051\u3044\u3086\u3046\u75c5\u9662 \u60a3\u8005\u56f3\u66f8\u5ba4)</td>\n      <td>Library</td>\n      <td></td>\n      <td>220-0012</td>\n      <td>35.459370</td>\n      <td>139.633350</td>\n    </tr>\n    <tr>\n      <th>5</th>\n      <td>4b6d007cf964a52070622ce3</td>\n      <td>\u6a2a\u6d5c\u5e02\u4e2d\u56f3\u66f8\u9928</td>\n      <td>Library</td>\n      <td></td>\n      <td>231-0821</td>\n      <td>35.423394</td>\n      <td>139.665331</td>\n    </tr>\n    <tr>\n      <th>6</th>\n      <td>4b63b1c2f964a520908c2ae3</td>\n      <td>\u6a2a\u6d5c\u5e02\u7acb \u795e\u5948\u5ddd\u56f3\u66f8\u9928</td>\n      <td>Library</td>\n      <td></td>\n      <td>221-0063</td>\n      <td>35.482737</td>\n      <td>139.635229</td>\n    </tr>\n    <tr>\n      <th>7</th>\n      <td>4b6bff66f964a520ea1e2ce3</td>\n      <td>\u4fdd\u571f\u30b1\u8c37\u56f3\u66f8\u9928</td>\n      <td>Library</td>\n      <td></td>\n      <td>240-0006</td>\n      <td>35.457126</td>\n      <td>139.596591</td>\n    </tr>\n    <tr>\n      <th>8</th>\n      <td>4b797255f964a520e6f92ee3</td>\n      <td>\u6a2a\u6d5c\u5e02\u5357\u56f3\u66f8\u9928</td>\n      <td>Library</td>\n      <td></td>\n      <td>232-0067</td>\n      <td>35.423897</td>\n      <td>139.596453</td>\n    </tr>\n    <tr>\n      <th>9</th>\n      <td>4b071c79f964a52076f722e3</td>\n      <td>Yokohama International School</td>\n      <td>High School</td>\n      <td></td>\n      <td>231-0862</td>\n      <td>35.439012</td>\n      <td>139.653553</td>\n    </tr>\n  </tbody>\n</table>\n</div>",
                        "text/plain": "                        uid  \\\n0  4b5a8fbff964a52068cb28e3   \n1  4b5ba63af964a520980d29e3   \n2  4b67aff1f964a520d45a2be3   \n3  553629a0498eaf2e168ba33b   \n4  57cfbe49cd102d0ceb99971c   \n5  4b6d007cf964a52070622ce3   \n6  4b63b1c2f964a520908c2ae3   \n7  4b6bff66f964a520ea1e2ce3   \n8  4b797255f964a520e6f92ee3   \n9  4b071c79f964a52076f722e3   \n\n                                                name    shortname address  \\\n0                                           \u6a2a\u6d5c\u5e02\u4e2d\u592e\u56f3\u66f8\u9928      Library           \n1                                           \u795e\u5948\u5ddd\u770c\u7acb\u56f3\u66f8\u9928      Library           \n2                  Art Information Center (\u7f8e\u8853\u60c5\u5831\u30bb\u30f3\u30bf\u30fc)      Library           \n3  City of Yokohama Municipal Archives Reference ...      Library           \n4                              \u5e0c\u671b-M\u30fbM (\u3051\u3044\u3086\u3046\u75c5\u9662 \u60a3\u8005\u56f3\u66f8\u5ba4)      Library           \n5                                            \u6a2a\u6d5c\u5e02\u4e2d\u56f3\u66f8\u9928      Library           \n6                                        \u6a2a\u6d5c\u5e02\u7acb \u795e\u5948\u5ddd\u56f3\u66f8\u9928      Library           \n7                                            \u4fdd\u571f\u30b1\u8c37\u56f3\u66f8\u9928      Library           \n8                                            \u6a2a\u6d5c\u5e02\u5357\u56f3\u66f8\u9928      Library           \n9                      Yokohama International School  High School           \n\n  postalcode        lat         lng  \n0   220-0032  35.447413  139.626411  \n1   220-8585  35.452192  139.626220  \n2   220-0012  35.456617  139.631056  \n3   220-0032  35.447413  139.626411  \n4   220-0012  35.459370  139.633350  \n5   231-0821  35.423394  139.665331  \n6   221-0063  35.482737  139.635229  \n7   240-0006  35.457126  139.596591  \n8   232-0067  35.423897  139.596453  \n9   231-0862  35.439012  139.653553  "
                    },
                    "execution_count": 11,
                    "metadata": {},
                    "output_type": "execute_result"
                }
            ],
            "source": "df_raw = []\nfor item in items:\n    venue = item[\"venue\"]\n    categories, uid, name, location = venue[\"categories\"], venue[\"id\"], venue[\"name\"], venue[\"location\"]\n    print(location)\n    assert len(categories) == 1\n    shortname = categories[0][\"shortName\"]\n    address =  ''\n    if hasattr(location, 'address'):\n      address = location['address']\n    if not \"postalCode\" in location:\n        continue\n    postalcode = location[\"postalCode\"]\n    lat = location[\"lat\"]\n    lng = location[\"lng\"]\n    datarow = (uid, name, shortname, address, postalcode, lat, lng)\n    df_raw.append(datarow)\ndf = pd.DataFrame(df_raw, columns=[\"uid\", \"name\", \"shortname\", \"address\", \"postalcode\", \"lat\", \"lng\"])\nprint(\"found %i Library\" % len(df))\ndf.head(30)"
        },
        {
            "cell_type": "code",
            "execution_count": 12,
            "metadata": {},
            "outputs": [
                {
                    "data": {
                        "text/plain": "{'lat': 35.44778, 'lng': 139.6425}"
                    },
                    "execution_count": 12,
                    "metadata": {},
                    "output_type": "execute_result"
                }
            ],
            "source": "yokohama_center = d[\"geocode\"][\"center\"]\nyokohama_center"
        },
        {
            "cell_type": "code",
            "execution_count": 13,
            "metadata": {},
            "outputs": [
                {
                    "data": {
                        "text/html": "<div style=\"width:100%;\"><div style=\"position:relative;width:100%;height:0;padding-bottom:60%;\"><span style=\"color:#565656\">Make this Notebook Trusted to load map: File -> Trust Notebook</span><iframe src=\"about:blank\" style=\"position:absolute;width:100%;height:100%;left:0;top:0;border:none !important;\" data-html=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 onload=\"this.contentDocument.open();this.contentDocument.write(atob(this.getAttribute('data-html')));this.contentDocument.close();\" allowfullscreen webkitallowfullscreen mozallowfullscreen></iframe></div></div>",
                        "text/plain": "<folium.folium.Map at 0x7f5d08642080>"
                    },
                    "execution_count": 13,
                    "metadata": {},
                    "output_type": "execute_result"
                }
            ],
            "source": "from folium import plugins\n\n\nmap_yokohama= folium.Map(location=[35.44778,  139.6425], zoom_start=14)\n\ndef add_markers(df):\n    for (j, row) in df.iterrows():\n        label = folium.Popup(row[\"name\"], parse_html=True)\n        folium.CircleMarker(\n            [row[\"lat\"], row[\"lng\"]],\n            radius=2,\n            popup=label,\n            color='blue',\n            fill=True,\n            fill_color='#3186cc',\n            fill_opacity=0.7,\n            parse_html=False).add_to(map_yokohama)\n\nadd_markers(df)\nhm_data = df[[\"lat\", \"lng\"]].to_numpy().tolist()\nmap_yokohama.add_child(plugins.HeatMap(hm_data))\n\nmap_yokohama"
        },
        {
            "cell_type": "code",
            "execution_count": null,
            "metadata": {},
            "outputs": [],
            "source": ""
        }
    ],
    "metadata": {
        "kernelspec": {
            "display_name": "Python 3.6",
            "language": "python",
            "name": "python3"
        },
        "language_info": {
            "codemirror_mode": {
                "name": "ipython",
                "version": 3
            },
            "file_extension": ".py",
            "mimetype": "text/x-python",
            "name": "python",
            "nbconvert_exporter": "python",
            "pygments_lexer": "ipython3",
            "version": "3.6.9"
        }
    },
    "nbformat": 4,
    "nbformat_minor": 1
}